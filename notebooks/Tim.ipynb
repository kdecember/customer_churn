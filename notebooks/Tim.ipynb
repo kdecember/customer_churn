{
 "cells": [
  {
   "cell_type": "code",
   "execution_count": 1,
   "metadata": {},
   "outputs": [
    {
     "name": "stderr",
     "output_type": "stream",
     "text": [
      "/opt/anaconda3/envs/learn-env/lib/python3.6/site-packages/sklearn/externals/six.py:31: DeprecationWarning: The module is deprecated in version 0.21 and will be removed in version 0.23 since we've dropped support for Python 2.7. Please rely on the official version of six (https://pypi.org/project/six/).\n",
      "  \"(https://pypi.org/project/six/).\", DeprecationWarning)\n"
     ]
    }
   ],
   "source": [
    "import numpy as np\n",
    "import pandas as pd\n",
    "import pandasql as psql\n",
    "\n",
    "from sklearn.model_selection import train_test_split\n",
    "from sklearn.preprocessing import LabelEncoder\n",
    "from sklearn.tree import DecisionTreeClassifier\n",
    "from sklearn.metrics import confusion_matrix, classification_report\n",
    "from sklearn.ensemble import RandomForestClassifier\n",
    "\n",
    "\n",
    "from imblearn.over_sampling import SMOTE"
   ]
  },
  {
   "cell_type": "code",
   "execution_count": 2,
   "metadata": {},
   "outputs": [],
   "source": [
    "df = pd.read_csv(\"~/Downloads/bigml_59c28831336c6604c800002a.csv\")"
   ]
  },
  {
   "cell_type": "code",
   "execution_count": 3,
   "metadata": {},
   "outputs": [],
   "source": [
    "le = LabelEncoder()\n",
    "df['state'] = le.fit_transform(df['state'])\n",
    "df['international plan'] = le.fit_transform(df['international plan'])\n",
    "df['voice mail plan'] = le.fit_transform(df['voice mail plan'])\n",
    "df['area code'] = le.fit_transform(df['area code'])"
   ]
  },
  {
   "cell_type": "code",
   "execution_count": 4,
   "metadata": {},
   "outputs": [
    {
     "data": {
      "text/html": [
       "<div>\n",
       "<style scoped>\n",
       "    .dataframe tbody tr th:only-of-type {\n",
       "        vertical-align: middle;\n",
       "    }\n",
       "\n",
       "    .dataframe tbody tr th {\n",
       "        vertical-align: top;\n",
       "    }\n",
       "\n",
       "    .dataframe thead th {\n",
       "        text-align: right;\n",
       "    }\n",
       "</style>\n",
       "<table border=\"1\" class=\"dataframe\">\n",
       "  <thead>\n",
       "    <tr style=\"text-align: right;\">\n",
       "      <th></th>\n",
       "      <th>state</th>\n",
       "      <th>account length</th>\n",
       "      <th>area code</th>\n",
       "      <th>international plan</th>\n",
       "      <th>voice mail plan</th>\n",
       "      <th>number vmail messages</th>\n",
       "      <th>total day minutes</th>\n",
       "      <th>total day calls</th>\n",
       "      <th>total day charge</th>\n",
       "      <th>total eve minutes</th>\n",
       "      <th>total eve calls</th>\n",
       "      <th>total eve charge</th>\n",
       "      <th>total night minutes</th>\n",
       "      <th>total night calls</th>\n",
       "      <th>total night charge</th>\n",
       "      <th>total intl minutes</th>\n",
       "      <th>total intl calls</th>\n",
       "      <th>total intl charge</th>\n",
       "      <th>customer service calls</th>\n",
       "    </tr>\n",
       "  </thead>\n",
       "  <tbody>\n",
       "    <tr>\n",
       "      <td>count</td>\n",
       "      <td>3333.000000</td>\n",
       "      <td>3333.000000</td>\n",
       "      <td>3333.000000</td>\n",
       "      <td>3333.000000</td>\n",
       "      <td>3333.000000</td>\n",
       "      <td>3333.000000</td>\n",
       "      <td>3333.000000</td>\n",
       "      <td>3333.000000</td>\n",
       "      <td>3333.000000</td>\n",
       "      <td>3333.000000</td>\n",
       "      <td>3333.000000</td>\n",
       "      <td>3333.000000</td>\n",
       "      <td>3333.000000</td>\n",
       "      <td>3333.000000</td>\n",
       "      <td>3333.000000</td>\n",
       "      <td>3333.000000</td>\n",
       "      <td>3333.000000</td>\n",
       "      <td>3333.000000</td>\n",
       "      <td>3333.000000</td>\n",
       "    </tr>\n",
       "    <tr>\n",
       "      <td>mean</td>\n",
       "      <td>26.059406</td>\n",
       "      <td>101.064806</td>\n",
       "      <td>1.000600</td>\n",
       "      <td>0.096910</td>\n",
       "      <td>0.276628</td>\n",
       "      <td>8.099010</td>\n",
       "      <td>179.775098</td>\n",
       "      <td>100.435644</td>\n",
       "      <td>30.562307</td>\n",
       "      <td>200.980348</td>\n",
       "      <td>100.114311</td>\n",
       "      <td>17.083540</td>\n",
       "      <td>200.872037</td>\n",
       "      <td>100.107711</td>\n",
       "      <td>9.039325</td>\n",
       "      <td>10.237294</td>\n",
       "      <td>4.479448</td>\n",
       "      <td>2.764581</td>\n",
       "      <td>1.562856</td>\n",
       "    </tr>\n",
       "    <tr>\n",
       "      <td>std</td>\n",
       "      <td>14.824911</td>\n",
       "      <td>39.822106</td>\n",
       "      <td>0.709649</td>\n",
       "      <td>0.295879</td>\n",
       "      <td>0.447398</td>\n",
       "      <td>13.688365</td>\n",
       "      <td>54.467389</td>\n",
       "      <td>20.069084</td>\n",
       "      <td>9.259435</td>\n",
       "      <td>50.713844</td>\n",
       "      <td>19.922625</td>\n",
       "      <td>4.310668</td>\n",
       "      <td>50.573847</td>\n",
       "      <td>19.568609</td>\n",
       "      <td>2.275873</td>\n",
       "      <td>2.791840</td>\n",
       "      <td>2.461214</td>\n",
       "      <td>0.753773</td>\n",
       "      <td>1.315491</td>\n",
       "    </tr>\n",
       "    <tr>\n",
       "      <td>min</td>\n",
       "      <td>0.000000</td>\n",
       "      <td>1.000000</td>\n",
       "      <td>0.000000</td>\n",
       "      <td>0.000000</td>\n",
       "      <td>0.000000</td>\n",
       "      <td>0.000000</td>\n",
       "      <td>0.000000</td>\n",
       "      <td>0.000000</td>\n",
       "      <td>0.000000</td>\n",
       "      <td>0.000000</td>\n",
       "      <td>0.000000</td>\n",
       "      <td>0.000000</td>\n",
       "      <td>23.200000</td>\n",
       "      <td>33.000000</td>\n",
       "      <td>1.040000</td>\n",
       "      <td>0.000000</td>\n",
       "      <td>0.000000</td>\n",
       "      <td>0.000000</td>\n",
       "      <td>0.000000</td>\n",
       "    </tr>\n",
       "    <tr>\n",
       "      <td>25%</td>\n",
       "      <td>14.000000</td>\n",
       "      <td>74.000000</td>\n",
       "      <td>0.000000</td>\n",
       "      <td>0.000000</td>\n",
       "      <td>0.000000</td>\n",
       "      <td>0.000000</td>\n",
       "      <td>143.700000</td>\n",
       "      <td>87.000000</td>\n",
       "      <td>24.430000</td>\n",
       "      <td>166.600000</td>\n",
       "      <td>87.000000</td>\n",
       "      <td>14.160000</td>\n",
       "      <td>167.000000</td>\n",
       "      <td>87.000000</td>\n",
       "      <td>7.520000</td>\n",
       "      <td>8.500000</td>\n",
       "      <td>3.000000</td>\n",
       "      <td>2.300000</td>\n",
       "      <td>1.000000</td>\n",
       "    </tr>\n",
       "    <tr>\n",
       "      <td>50%</td>\n",
       "      <td>26.000000</td>\n",
       "      <td>101.000000</td>\n",
       "      <td>1.000000</td>\n",
       "      <td>0.000000</td>\n",
       "      <td>0.000000</td>\n",
       "      <td>0.000000</td>\n",
       "      <td>179.400000</td>\n",
       "      <td>101.000000</td>\n",
       "      <td>30.500000</td>\n",
       "      <td>201.400000</td>\n",
       "      <td>100.000000</td>\n",
       "      <td>17.120000</td>\n",
       "      <td>201.200000</td>\n",
       "      <td>100.000000</td>\n",
       "      <td>9.050000</td>\n",
       "      <td>10.300000</td>\n",
       "      <td>4.000000</td>\n",
       "      <td>2.780000</td>\n",
       "      <td>1.000000</td>\n",
       "    </tr>\n",
       "    <tr>\n",
       "      <td>75%</td>\n",
       "      <td>39.000000</td>\n",
       "      <td>127.000000</td>\n",
       "      <td>2.000000</td>\n",
       "      <td>0.000000</td>\n",
       "      <td>1.000000</td>\n",
       "      <td>20.000000</td>\n",
       "      <td>216.400000</td>\n",
       "      <td>114.000000</td>\n",
       "      <td>36.790000</td>\n",
       "      <td>235.300000</td>\n",
       "      <td>114.000000</td>\n",
       "      <td>20.000000</td>\n",
       "      <td>235.300000</td>\n",
       "      <td>113.000000</td>\n",
       "      <td>10.590000</td>\n",
       "      <td>12.100000</td>\n",
       "      <td>6.000000</td>\n",
       "      <td>3.270000</td>\n",
       "      <td>2.000000</td>\n",
       "    </tr>\n",
       "    <tr>\n",
       "      <td>max</td>\n",
       "      <td>50.000000</td>\n",
       "      <td>243.000000</td>\n",
       "      <td>2.000000</td>\n",
       "      <td>1.000000</td>\n",
       "      <td>1.000000</td>\n",
       "      <td>51.000000</td>\n",
       "      <td>350.800000</td>\n",
       "      <td>165.000000</td>\n",
       "      <td>59.640000</td>\n",
       "      <td>363.700000</td>\n",
       "      <td>170.000000</td>\n",
       "      <td>30.910000</td>\n",
       "      <td>395.000000</td>\n",
       "      <td>175.000000</td>\n",
       "      <td>17.770000</td>\n",
       "      <td>20.000000</td>\n",
       "      <td>20.000000</td>\n",
       "      <td>5.400000</td>\n",
       "      <td>9.000000</td>\n",
       "    </tr>\n",
       "  </tbody>\n",
       "</table>\n",
       "</div>"
      ],
      "text/plain": [
       "             state  account length    area code  international plan  \\\n",
       "count  3333.000000     3333.000000  3333.000000         3333.000000   \n",
       "mean     26.059406      101.064806     1.000600            0.096910   \n",
       "std      14.824911       39.822106     0.709649            0.295879   \n",
       "min       0.000000        1.000000     0.000000            0.000000   \n",
       "25%      14.000000       74.000000     0.000000            0.000000   \n",
       "50%      26.000000      101.000000     1.000000            0.000000   \n",
       "75%      39.000000      127.000000     2.000000            0.000000   \n",
       "max      50.000000      243.000000     2.000000            1.000000   \n",
       "\n",
       "       voice mail plan  number vmail messages  total day minutes  \\\n",
       "count      3333.000000            3333.000000        3333.000000   \n",
       "mean          0.276628               8.099010         179.775098   \n",
       "std           0.447398              13.688365          54.467389   \n",
       "min           0.000000               0.000000           0.000000   \n",
       "25%           0.000000               0.000000         143.700000   \n",
       "50%           0.000000               0.000000         179.400000   \n",
       "75%           1.000000              20.000000         216.400000   \n",
       "max           1.000000              51.000000         350.800000   \n",
       "\n",
       "       total day calls  total day charge  total eve minutes  total eve calls  \\\n",
       "count      3333.000000       3333.000000        3333.000000      3333.000000   \n",
       "mean        100.435644         30.562307         200.980348       100.114311   \n",
       "std          20.069084          9.259435          50.713844        19.922625   \n",
       "min           0.000000          0.000000           0.000000         0.000000   \n",
       "25%          87.000000         24.430000         166.600000        87.000000   \n",
       "50%         101.000000         30.500000         201.400000       100.000000   \n",
       "75%         114.000000         36.790000         235.300000       114.000000   \n",
       "max         165.000000         59.640000         363.700000       170.000000   \n",
       "\n",
       "       total eve charge  total night minutes  total night calls  \\\n",
       "count       3333.000000          3333.000000        3333.000000   \n",
       "mean          17.083540           200.872037         100.107711   \n",
       "std            4.310668            50.573847          19.568609   \n",
       "min            0.000000            23.200000          33.000000   \n",
       "25%           14.160000           167.000000          87.000000   \n",
       "50%           17.120000           201.200000         100.000000   \n",
       "75%           20.000000           235.300000         113.000000   \n",
       "max           30.910000           395.000000         175.000000   \n",
       "\n",
       "       total night charge  total intl minutes  total intl calls  \\\n",
       "count         3333.000000         3333.000000       3333.000000   \n",
       "mean             9.039325           10.237294          4.479448   \n",
       "std              2.275873            2.791840          2.461214   \n",
       "min              1.040000            0.000000          0.000000   \n",
       "25%              7.520000            8.500000          3.000000   \n",
       "50%              9.050000           10.300000          4.000000   \n",
       "75%             10.590000           12.100000          6.000000   \n",
       "max             17.770000           20.000000         20.000000   \n",
       "\n",
       "       total intl charge  customer service calls  \n",
       "count        3333.000000             3333.000000  \n",
       "mean            2.764581                1.562856  \n",
       "std             0.753773                1.315491  \n",
       "min             0.000000                0.000000  \n",
       "25%             2.300000                1.000000  \n",
       "50%             2.780000                1.000000  \n",
       "75%             3.270000                2.000000  \n",
       "max             5.400000                9.000000  "
      ]
     },
     "execution_count": 4,
     "metadata": {},
     "output_type": "execute_result"
    }
   ],
   "source": [
    "df.describe()"
   ]
  },
  {
   "cell_type": "code",
   "execution_count": 5,
   "metadata": {},
   "outputs": [
    {
     "data": {
      "text/plain": [
       "state                       int64\n",
       "account length              int64\n",
       "area code                   int64\n",
       "phone number               object\n",
       "international plan          int64\n",
       "voice mail plan             int64\n",
       "number vmail messages       int64\n",
       "total day minutes         float64\n",
       "total day calls             int64\n",
       "total day charge          float64\n",
       "total eve minutes         float64\n",
       "total eve calls             int64\n",
       "total eve charge          float64\n",
       "total night minutes       float64\n",
       "total night calls           int64\n",
       "total night charge        float64\n",
       "total intl minutes        float64\n",
       "total intl calls            int64\n",
       "total intl charge         float64\n",
       "customer service calls      int64\n",
       "churn                        bool\n",
       "dtype: object"
      ]
     },
     "execution_count": 5,
     "metadata": {},
     "output_type": "execute_result"
    }
   ],
   "source": [
    "df.dtypes"
   ]
  },
  {
   "cell_type": "code",
   "execution_count": 6,
   "metadata": {},
   "outputs": [],
   "source": [
    "q1 = (\"\"\"\n",
    "SELECT *,\n",
    "CASE \n",
    "    WHEN \"total intl calls\" > 0 THEN 1\n",
    "    ELSE 0 \n",
    "END AS intlcalls,\n",
    "CASE \n",
    "    WHEN \"total eve calls\" > 0 THEN 1\n",
    "    ELSE 0 \n",
    "END AS evecalls,\n",
    "CASE \n",
    "    WHEN \"total night calls\" > 0 THEN 1\n",
    "    ELSE 0\n",
    "END AS nightcalls,\n",
    "CASE\n",
    "    WHEN \"total day calls\" > 0 THEN 1\n",
    "    ELSE 0\n",
    "END AS daycalls,\n",
    "CASE\n",
    "    WHEN \"customer service calls\" > 1 THEN 1 \n",
    "    ELSE 0\n",
    "END AS customerservice\n",
    "FROM df\n",
    "\"\"\")\n",
    "df1 = psql.sqldf(q1)\n",
    "df1 = df1.drop(columns = ['total intl calls','total eve calls','total night calls','total day calls','customer service calls'])"
   ]
  },
  {
   "cell_type": "code",
   "execution_count": 7,
   "metadata": {},
   "outputs": [],
   "source": [
    "q2 = \"\"\"\n",
    "SELECT \"state\", \"area code\",\n",
    "\"international plan\", \"voice mail plan\", \"number vmail messages\"/\"account length\",\n",
    "\"total day minutes\"/\"account length\", \"total day calls\"/\"account length\", \"total day charge\"/\"account length\",\n",
    "\"total eve minutes\"/\"account length\", \"total eve calls\"/\"account length\", \"total eve charge\"/\"account length\",\n",
    "\"total night minutes\"/\"account length\", \"total night calls\"/\"account length\", \"total night charge\",\n",
    "\"total intl minutes\"/\"account length\", \"total intl calls\"/\"account length\", \"total intl charge\"/\"account length\",\n",
    "\"customer service calls\", \"churn\"\n",
    "FROM df\n",
    "\"\"\"\n",
    "df2 = psql.sqldf(q2)"
   ]
  },
  {
   "cell_type": "code",
   "execution_count": null,
   "metadata": {},
   "outputs": [],
   "source": []
  },
  {
   "cell_type": "code",
   "execution_count": 8,
   "metadata": {},
   "outputs": [],
   "source": [
    "# actually we dont really need the column phone number because it will cause over fitting and will not have a \n",
    "# correlation between our train and test data."
   ]
  },
  {
   "cell_type": "code",
   "execution_count": null,
   "metadata": {},
   "outputs": [],
   "source": []
  },
  {
   "cell_type": "code",
   "execution_count": 9,
   "metadata": {},
   "outputs": [],
   "source": [
    "X = df.drop(columns = ['churn','phone number'])\n",
    "y = df['churn']\n",
    "Xtrain,Xtest,ytrain,ytest = train_test_split(X,y,random_state=42)"
   ]
  },
  {
   "cell_type": "code",
   "execution_count": 10,
   "metadata": {},
   "outputs": [
    {
     "data": {
      "text/plain": [
       "DecisionTreeClassifier(class_weight=None, criterion='gini', max_depth=22,\n",
       "                       max_features=None, max_leaf_nodes=None,\n",
       "                       min_impurity_decrease=0.0, min_impurity_split=None,\n",
       "                       min_samples_leaf=1, min_samples_split=2,\n",
       "                       min_weight_fraction_leaf=0.0, presort=False,\n",
       "                       random_state=None, splitter='best')"
      ]
     },
     "execution_count": 10,
     "metadata": {},
     "output_type": "execute_result"
    }
   ],
   "source": [
    "dtc = DecisionTreeClassifier(max_depth=22)\n",
    "dtc.fit(Xtrain,ytrain)"
   ]
  },
  {
   "cell_type": "code",
   "execution_count": 11,
   "metadata": {},
   "outputs": [],
   "source": [
    "y_preds = dtc.predict(Xtrain)"
   ]
  },
  {
   "cell_type": "code",
   "execution_count": 12,
   "metadata": {},
   "outputs": [
    {
     "data": {
      "text/plain": [
       "array([[2141,    0],\n",
       "       [   0,  358]])"
      ]
     },
     "execution_count": 12,
     "metadata": {},
     "output_type": "execute_result"
    }
   ],
   "source": [
    "confusion_matrix(ytrain,y_preds)"
   ]
  },
  {
   "cell_type": "code",
   "execution_count": 13,
   "metadata": {},
   "outputs": [],
   "source": [
    "X = df.drop(columns = ['churn','phone number'])\n",
    "y = df['churn']\n",
    "Xtrain,Xtest,ytrain,ytest = train_test_split(X,y,random_state=42)"
   ]
  },
  {
   "cell_type": "code",
   "execution_count": 14,
   "metadata": {},
   "outputs": [],
   "source": [
    "rfc = RandomForestClassifier(n_estimators=100,random_state=42)"
   ]
  },
  {
   "cell_type": "code",
   "execution_count": 15,
   "metadata": {},
   "outputs": [
    {
     "data": {
      "text/plain": [
       "RandomForestClassifier(bootstrap=True, class_weight=None, criterion='gini',\n",
       "                       max_depth=None, max_features='auto', max_leaf_nodes=None,\n",
       "                       min_impurity_decrease=0.0, min_impurity_split=None,\n",
       "                       min_samples_leaf=1, min_samples_split=2,\n",
       "                       min_weight_fraction_leaf=0.0, n_estimators=100,\n",
       "                       n_jobs=None, oob_score=False, random_state=42, verbose=0,\n",
       "                       warm_start=False)"
      ]
     },
     "execution_count": 15,
     "metadata": {},
     "output_type": "execute_result"
    }
   ],
   "source": [
    "rfc.fit(Xtrain,ytrain)"
   ]
  },
  {
   "cell_type": "code",
   "execution_count": 16,
   "metadata": {},
   "outputs": [
    {
     "data": {
      "text/plain": [
       "array([[2141,    0],\n",
       "       [   0,  358]])"
      ]
     },
     "execution_count": 16,
     "metadata": {},
     "output_type": "execute_result"
    }
   ],
   "source": [
    "confusion_matrix(ytrain,rfc.predict(Xtrain))"
   ]
  },
  {
   "cell_type": "code",
   "execution_count": 17,
   "metadata": {},
   "outputs": [
    {
     "data": {
      "text/plain": [
       "array([0.02472057, 0.02867274, 0.00857789, 0.08677414, 0.02023758,\n",
       "       0.02702115, 0.13428955, 0.03074894, 0.13058729, 0.06298392,\n",
       "       0.02874081, 0.06677738, 0.03676844, 0.03198688, 0.03508086,\n",
       "       0.04161329, 0.0448703 , 0.03693667, 0.1226116 ])"
      ]
     },
     "execution_count": 17,
     "metadata": {},
     "output_type": "execute_result"
    }
   ],
   "source": [
    "rfc.feature_importances_"
   ]
  },
  {
   "cell_type": "code",
   "execution_count": 18,
   "metadata": {},
   "outputs": [
    {
     "name": "stdout",
     "output_type": "stream",
     "text": [
      "              precision    recall  f1-score   support\n",
      "\n",
      "       False       0.95      1.00      0.97       709\n",
      "        True       0.97      0.68      0.80       125\n",
      "\n",
      "    accuracy                           0.95       834\n",
      "   macro avg       0.96      0.84      0.88       834\n",
      "weighted avg       0.95      0.95      0.94       834\n",
      "\n"
     ]
    }
   ],
   "source": [
    "print(classification_report(ytest,rfc.predict(Xtest)))"
   ]
  },
  {
   "cell_type": "code",
   "execution_count": 19,
   "metadata": {},
   "outputs": [
    {
     "data": {
      "text/plain": [
       "array([[706,   3],\n",
       "       [ 40,  85]])"
      ]
     },
     "execution_count": 19,
     "metadata": {},
     "output_type": "execute_result"
    }
   ],
   "source": [
    "rfc.fit(Xtrain,ytrain)\n",
    "confusion_matrix(ytest,rfc.predict(Xtest))"
   ]
  },
  {
   "cell_type": "code",
   "execution_count": 20,
   "metadata": {},
   "outputs": [
    {
     "data": {
      "text/plain": [
       "array([[685,  24],\n",
       "       [ 26,  99]])"
      ]
     },
     "execution_count": 20,
     "metadata": {},
     "output_type": "execute_result"
    }
   ],
   "source": [
    "sm = SMOTE(random_state=42, sampling_strategy=1.0)\n",
    "Xsmote, ysmote = sm.fit_sample(Xtrain, ytrain)\n",
    "rfc.fit(Xsmote,ysmote)\n",
    "confusion_matrix(ytest,rfc.predict(Xtest))"
   ]
  },
  {
   "cell_type": "code",
   "execution_count": 21,
   "metadata": {},
   "outputs": [
    {
     "name": "stdout",
     "output_type": "stream",
     "text": [
      "              precision    recall  f1-score   support\n",
      "\n",
      "       False       0.96      0.97      0.96       709\n",
      "        True       0.80      0.79      0.80       125\n",
      "\n",
      "    accuracy                           0.94       834\n",
      "   macro avg       0.88      0.88      0.88       834\n",
      "weighted avg       0.94      0.94      0.94       834\n",
      "\n"
     ]
    }
   ],
   "source": [
    "print(classification_report(ytest,rfc.predict(Xtest)))"
   ]
  },
  {
   "cell_type": "code",
   "execution_count": 25,
   "metadata": {},
   "outputs": [],
   "source": [
    "X2 = df2.drop(columns = ['churn'])\n",
    "y2 = df2['churn']\n",
    "Xtrain2,Xtest2,ytrain2,ytest2 = train_test_split(X2,y2,random_state=42)"
   ]
  },
  {
   "cell_type": "code",
   "execution_count": 26,
   "metadata": {},
   "outputs": [
    {
     "data": {
      "text/plain": [
       "array([[2141,    0],\n",
       "       [   0,  358]])"
      ]
     },
     "execution_count": 26,
     "metadata": {},
     "output_type": "execute_result"
    }
   ],
   "source": [
    "rfc.fit(Xtrain2,ytrain2)\n",
    "y_preds2 = rfc.predict(Xtrain2)\n",
    "confusion_matrix(ytrain2,y_preds2)"
   ]
  },
  {
   "cell_type": "code",
   "execution_count": 27,
   "metadata": {},
   "outputs": [
    {
     "name": "stdout",
     "output_type": "stream",
     "text": [
      "              precision    recall  f1-score   support\n",
      "\n",
      "           0       0.89      0.98      0.93       709\n",
      "           1       0.75      0.31      0.44       125\n",
      "\n",
      "    accuracy                           0.88       834\n",
      "   macro avg       0.82      0.65      0.69       834\n",
      "weighted avg       0.87      0.88      0.86       834\n",
      "\n"
     ]
    }
   ],
   "source": [
    "print(classification_report(ytest2,rfc.predict(Xtest2)))"
   ]
  },
  {
   "cell_type": "code",
   "execution_count": 28,
   "metadata": {},
   "outputs": [
    {
     "data": {
      "text/plain": [
       "array([[696,  13],\n",
       "       [ 86,  39]])"
      ]
     },
     "execution_count": 28,
     "metadata": {},
     "output_type": "execute_result"
    }
   ],
   "source": [
    "confusion_matrix(ytest2,rfc.predict(Xtest2))"
   ]
  },
  {
   "cell_type": "code",
   "execution_count": 29,
   "metadata": {},
   "outputs": [],
   "source": [
    "sm = SMOTE(random_state=42, sampling_strategy=1.0)\n",
    "Xsmote1, ysmote1 = sm.fit_sample(Xtrain2, ytrain2)"
   ]
  },
  {
   "cell_type": "code",
   "execution_count": 30,
   "metadata": {},
   "outputs": [
    {
     "data": {
      "text/plain": [
       "array([[663,  46],\n",
       "       [ 67,  58]])"
      ]
     },
     "execution_count": 30,
     "metadata": {},
     "output_type": "execute_result"
    }
   ],
   "source": [
    "rfc.fit(Xsmote1,ysmote1)\n",
    "confusion_matrix(ytest2,rfc.predict(Xtest2))"
   ]
  },
  {
   "cell_type": "code",
   "execution_count": 31,
   "metadata": {},
   "outputs": [
    {
     "name": "stdout",
     "output_type": "stream",
     "text": [
      "              precision    recall  f1-score   support\n",
      "\n",
      "           0       0.91      0.94      0.92       709\n",
      "           1       0.56      0.46      0.51       125\n",
      "\n",
      "    accuracy                           0.86       834\n",
      "   macro avg       0.73      0.70      0.71       834\n",
      "weighted avg       0.86      0.86      0.86       834\n",
      "\n"
     ]
    }
   ],
   "source": [
    "print(classification_report(ytest2,rfc.predict(Xtest2)))"
   ]
  },
  {
   "cell_type": "code",
   "execution_count": 118,
   "metadata": {},
   "outputs": [],
   "source": [
    "df3['account months'] = np.ceil(df['account length']/30).astype(int)"
   ]
  },
  {
   "cell_type": "code",
   "execution_count": 54,
   "metadata": {},
   "outputs": [],
   "source": [
    "# q3 = (\"\"\"\n",
    "# SELECT *,\n",
    "# CASE \n",
    "#     WHEN \"account length\" < 30 THEN 0\n",
    "#     WHEN \"account length\" BETWEEN 31 and 60 THEN 1\n",
    "#     WHEN \"account length\" BETWEEN 61 and 90 THEN 2\n",
    "#     ELSE 3\n",
    "     \n",
    "# END AS gtr_avg\n",
    "# FROM df\n",
    "# \"\"\")\n",
    "# df3 = psql.sqldf(q3)\n",
    "# df3 = df3.drop(columns = ['phone number','account length'])"
   ]
  },
  {
   "cell_type": "code",
   "execution_count": 127,
   "metadata": {},
   "outputs": [
    {
     "data": {
      "text/plain": [
       "RandomForestClassifier(bootstrap=True, class_weight=None, criterion='gini',\n",
       "                       max_depth=None, max_features='auto', max_leaf_nodes=None,\n",
       "                       min_impurity_decrease=0.0, min_impurity_split=None,\n",
       "                       min_samples_leaf=1, min_samples_split=2,\n",
       "                       min_weight_fraction_leaf=0.0, n_estimators=100,\n",
       "                       n_jobs=None, oob_score=False, random_state=42, verbose=0,\n",
       "                       warm_start=False)"
      ]
     },
     "execution_count": 127,
     "metadata": {},
     "output_type": "execute_result"
    }
   ],
   "source": [
    "X = df3.drop(columns = ['churn'])\n",
    "y = df3['churn']\n",
    "Xtrain,Xtest,ytrain,ytest = train_test_split(X,y,random_state=42)\n",
    "rfc.fit(Xtrain,ytrain)"
   ]
  },
  {
   "cell_type": "code",
   "execution_count": 128,
   "metadata": {},
   "outputs": [
    {
     "data": {
      "text/plain": [
       "array([[709,   0],\n",
       "       [ 22, 103]])"
      ]
     },
     "execution_count": 128,
     "metadata": {},
     "output_type": "execute_result"
    }
   ],
   "source": [
    "confusion_matrix(ytest,rfc.predict(Xtest))"
   ]
  },
  {
   "cell_type": "code",
   "execution_count": 129,
   "metadata": {},
   "outputs": [
    {
     "name": "stdout",
     "output_type": "stream",
     "text": [
      "              precision    recall  f1-score   support\n",
      "\n",
      "           0       0.97      1.00      0.98       709\n",
      "           1       1.00      0.82      0.90       125\n",
      "\n",
      "    accuracy                           0.97       834\n",
      "   macro avg       0.98      0.91      0.94       834\n",
      "weighted avg       0.97      0.97      0.97       834\n",
      "\n"
     ]
    }
   ],
   "source": [
    "print(classification_report(ytest,rfc.predict(Xtest)))"
   ]
  },
  {
   "cell_type": "code",
   "execution_count": 122,
   "metadata": {},
   "outputs": [
    {
     "data": {
      "text/plain": [
       "array([[705,   4],\n",
       "       [ 16, 109]])"
      ]
     },
     "execution_count": 122,
     "metadata": {},
     "output_type": "execute_result"
    }
   ],
   "source": [
    "sm = SMOTE(random_state=42, sampling_strategy=1)\n",
    "Xsmote, ysmote = sm.fit_sample(Xtrain, ytrain)\n",
    "rfc.fit(Xsmote,ysmote)\n",
    "confusion_matrix(ytest,rfc.predict(Xtest))"
   ]
  },
  {
   "cell_type": "code",
   "execution_count": 123,
   "metadata": {},
   "outputs": [
    {
     "name": "stdout",
     "output_type": "stream",
     "text": [
      "              precision    recall  f1-score   support\n",
      "\n",
      "           0       0.98      0.99      0.99       709\n",
      "           1       0.96      0.87      0.92       125\n",
      "\n",
      "    accuracy                           0.98       834\n",
      "   macro avg       0.97      0.93      0.95       834\n",
      "weighted avg       0.98      0.98      0.98       834\n",
      "\n"
     ]
    }
   ],
   "source": [
    "print(classification_report(ytest,rfc.predict(Xtest)))"
   ]
  },
  {
   "cell_type": "code",
   "execution_count": 130,
   "metadata": {},
   "outputs": [
    {
     "data": {
      "text/plain": [
       "array([0.01781716, 0.00638473, 0.0700475 , 0.04050099, 0.03527827,\n",
       "       0.07077254, 0.02088462, 0.06580524, 0.02893321, 0.02063612,\n",
       "       0.02988229, 0.02243889, 0.0209801 , 0.0227309 , 0.03204692,\n",
       "       0.03310242, 0.03132106, 0.12506148, 0.00436784, 0.06827159,\n",
       "       0.02174009, 0.17881049, 0.02398501, 0.00820054])"
      ]
     },
     "execution_count": 130,
     "metadata": {},
     "output_type": "execute_result"
    }
   ],
   "source": [
    "rfc.feature_importances_"
   ]
  },
  {
   "cell_type": "code",
   "execution_count": 131,
   "metadata": {},
   "outputs": [
    {
     "data": {
      "text/plain": [
       "[('state', 0.017817162799637905),\n",
       " ('area code', 0.006384731102192434),\n",
       " ('international plan', 0.07004750183899447),\n",
       " ('voice mail plan', 0.0405009942113875),\n",
       " ('number vmail messages', 0.0352782720852878),\n",
       " ('total day minutes', 0.07077253632098861),\n",
       " ('total day calls', 0.020884619897356557),\n",
       " ('total day charge', 0.06580524014527062),\n",
       " ('total eve minutes', 0.02893320747055677),\n",
       " ('total eve calls', 0.020636122510368043),\n",
       " ('total eve charge', 0.029882288383734898),\n",
       " ('total night minutes', 0.022438894148957878),\n",
       " ('total night calls', 0.02098009994651926),\n",
       " ('total night charge', 0.022730899612873647),\n",
       " ('total intl minutes', 0.032046915351350035),\n",
       " ('total intl calls', 0.03310242091807169),\n",
       " ('total intl charge', 0.03132105817440855),\n",
       " ('customer service calls', 0.12506148072178142),\n",
       " ('gtr_avg', 0.004367835752418694),\n",
       " ('total minutes', 0.06827158586934881),\n",
       " ('total calls', 0.021740087940116375),\n",
       " ('total cost', 0.17881049016187323),\n",
       " ('cost per day', 0.02398500963866582),\n",
       " ('account months', 0.008200544997839086)]"
      ]
     },
     "execution_count": 131,
     "metadata": {},
     "output_type": "execute_result"
    }
   ],
   "source": [
    "list(zip(Xtest.columns,rfc.feature_importances_))"
   ]
  },
  {
   "cell_type": "code",
   "execution_count": 124,
   "metadata": {},
   "outputs": [
    {
     "data": {
      "text/html": [
       "<div>\n",
       "<style scoped>\n",
       "    .dataframe tbody tr th:only-of-type {\n",
       "        vertical-align: middle;\n",
       "    }\n",
       "\n",
       "    .dataframe tbody tr th {\n",
       "        vertical-align: top;\n",
       "    }\n",
       "\n",
       "    .dataframe thead th {\n",
       "        text-align: right;\n",
       "    }\n",
       "</style>\n",
       "<table border=\"1\" class=\"dataframe\">\n",
       "  <thead>\n",
       "    <tr style=\"text-align: right;\">\n",
       "      <th></th>\n",
       "      <th>state</th>\n",
       "      <th>area code</th>\n",
       "      <th>international plan</th>\n",
       "      <th>voice mail plan</th>\n",
       "      <th>number vmail messages</th>\n",
       "      <th>total day minutes</th>\n",
       "      <th>total day calls</th>\n",
       "      <th>total day charge</th>\n",
       "      <th>total eve minutes</th>\n",
       "      <th>total eve calls</th>\n",
       "      <th>...</th>\n",
       "      <th>total intl calls</th>\n",
       "      <th>total intl charge</th>\n",
       "      <th>customer service calls</th>\n",
       "      <th>gtr_avg</th>\n",
       "      <th>account length</th>\n",
       "      <th>total minutes</th>\n",
       "      <th>total calls</th>\n",
       "      <th>total cost</th>\n",
       "      <th>cost per day</th>\n",
       "      <th>account months</th>\n",
       "    </tr>\n",
       "  </thead>\n",
       "  <tbody>\n",
       "    <tr>\n",
       "      <td>count</td>\n",
       "      <td>834.000000</td>\n",
       "      <td>834.000000</td>\n",
       "      <td>834.000000</td>\n",
       "      <td>834.000000</td>\n",
       "      <td>834.000000</td>\n",
       "      <td>834.000000</td>\n",
       "      <td>834.000000</td>\n",
       "      <td>834.000000</td>\n",
       "      <td>834.000000</td>\n",
       "      <td>834.000000</td>\n",
       "      <td>...</td>\n",
       "      <td>834.000000</td>\n",
       "      <td>834.000000</td>\n",
       "      <td>834.000000</td>\n",
       "      <td>834.000000</td>\n",
       "      <td>834.000000</td>\n",
       "      <td>834.000000</td>\n",
       "      <td>834.000000</td>\n",
       "      <td>834.000000</td>\n",
       "      <td>834.000000</td>\n",
       "      <td>834.000000</td>\n",
       "    </tr>\n",
       "    <tr>\n",
       "      <td>mean</td>\n",
       "      <td>25.785372</td>\n",
       "      <td>1.032374</td>\n",
       "      <td>0.097122</td>\n",
       "      <td>0.290168</td>\n",
       "      <td>8.438849</td>\n",
       "      <td>179.083573</td>\n",
       "      <td>100.425659</td>\n",
       "      <td>30.444880</td>\n",
       "      <td>201.305396</td>\n",
       "      <td>100.621103</td>\n",
       "      <td>...</td>\n",
       "      <td>4.576739</td>\n",
       "      <td>2.748094</td>\n",
       "      <td>1.545564</td>\n",
       "      <td>2.432854</td>\n",
       "      <td>3.902878</td>\n",
       "      <td>592.189329</td>\n",
       "      <td>306.342926</td>\n",
       "      <td>59.377374</td>\n",
       "      <td>0.991785</td>\n",
       "      <td>3.902878</td>\n",
       "    </tr>\n",
       "    <tr>\n",
       "      <td>std</td>\n",
       "      <td>14.887113</td>\n",
       "      <td>0.715231</td>\n",
       "      <td>0.296302</td>\n",
       "      <td>0.454112</td>\n",
       "      <td>13.774700</td>\n",
       "      <td>55.705695</td>\n",
       "      <td>20.398959</td>\n",
       "      <td>9.469929</td>\n",
       "      <td>50.997535</td>\n",
       "      <td>19.465495</td>\n",
       "      <td>...</td>\n",
       "      <td>2.547411</td>\n",
       "      <td>0.749223</td>\n",
       "      <td>1.274352</td>\n",
       "      <td>0.837836</td>\n",
       "      <td>1.381203</td>\n",
       "      <td>91.433173</td>\n",
       "      <td>34.869882</td>\n",
       "      <td>10.797792</td>\n",
       "      <td>3.383636</td>\n",
       "      <td>1.381203</td>\n",
       "    </tr>\n",
       "    <tr>\n",
       "      <td>min</td>\n",
       "      <td>0.000000</td>\n",
       "      <td>0.000000</td>\n",
       "      <td>0.000000</td>\n",
       "      <td>0.000000</td>\n",
       "      <td>0.000000</td>\n",
       "      <td>0.000000</td>\n",
       "      <td>0.000000</td>\n",
       "      <td>0.000000</td>\n",
       "      <td>31.200000</td>\n",
       "      <td>48.000000</td>\n",
       "      <td>...</td>\n",
       "      <td>0.000000</td>\n",
       "      <td>0.000000</td>\n",
       "      <td>0.000000</td>\n",
       "      <td>0.000000</td>\n",
       "      <td>1.000000</td>\n",
       "      <td>301.500000</td>\n",
       "      <td>206.000000</td>\n",
       "      <td>22.930000</td>\n",
       "      <td>0.174791</td>\n",
       "      <td>1.000000</td>\n",
       "    </tr>\n",
       "    <tr>\n",
       "      <td>25%</td>\n",
       "      <td>13.250000</td>\n",
       "      <td>1.000000</td>\n",
       "      <td>0.000000</td>\n",
       "      <td>0.000000</td>\n",
       "      <td>0.000000</td>\n",
       "      <td>143.250000</td>\n",
       "      <td>86.000000</td>\n",
       "      <td>24.350000</td>\n",
       "      <td>167.300000</td>\n",
       "      <td>87.000000</td>\n",
       "      <td>...</td>\n",
       "      <td>3.000000</td>\n",
       "      <td>2.270000</td>\n",
       "      <td>1.000000</td>\n",
       "      <td>2.000000</td>\n",
       "      <td>3.000000</td>\n",
       "      <td>526.350000</td>\n",
       "      <td>284.000000</td>\n",
       "      <td>52.100000</td>\n",
       "      <td>0.444992</td>\n",
       "      <td>3.000000</td>\n",
       "    </tr>\n",
       "    <tr>\n",
       "      <td>50%</td>\n",
       "      <td>26.500000</td>\n",
       "      <td>1.000000</td>\n",
       "      <td>0.000000</td>\n",
       "      <td>0.000000</td>\n",
       "      <td>0.000000</td>\n",
       "      <td>180.450000</td>\n",
       "      <td>101.000000</td>\n",
       "      <td>30.680000</td>\n",
       "      <td>202.600000</td>\n",
       "      <td>101.000000</td>\n",
       "      <td>...</td>\n",
       "      <td>4.000000</td>\n",
       "      <td>2.750000</td>\n",
       "      <td>1.000000</td>\n",
       "      <td>3.000000</td>\n",
       "      <td>4.000000</td>\n",
       "      <td>595.750000</td>\n",
       "      <td>306.000000</td>\n",
       "      <td>59.370000</td>\n",
       "      <td>0.575734</td>\n",
       "      <td>4.000000</td>\n",
       "    </tr>\n",
       "    <tr>\n",
       "      <td>75%</td>\n",
       "      <td>38.000000</td>\n",
       "      <td>2.000000</td>\n",
       "      <td>0.000000</td>\n",
       "      <td>1.000000</td>\n",
       "      <td>21.000000</td>\n",
       "      <td>216.525000</td>\n",
       "      <td>114.750000</td>\n",
       "      <td>36.807500</td>\n",
       "      <td>236.925000</td>\n",
       "      <td>114.000000</td>\n",
       "      <td>...</td>\n",
       "      <td>6.000000</td>\n",
       "      <td>3.285000</td>\n",
       "      <td>2.000000</td>\n",
       "      <td>3.000000</td>\n",
       "      <td>5.000000</td>\n",
       "      <td>655.325000</td>\n",
       "      <td>329.000000</td>\n",
       "      <td>66.897500</td>\n",
       "      <td>0.799857</td>\n",
       "      <td>5.000000</td>\n",
       "    </tr>\n",
       "    <tr>\n",
       "      <td>max</td>\n",
       "      <td>50.000000</td>\n",
       "      <td>2.000000</td>\n",
       "      <td>1.000000</td>\n",
       "      <td>1.000000</td>\n",
       "      <td>46.000000</td>\n",
       "      <td>335.500000</td>\n",
       "      <td>163.000000</td>\n",
       "      <td>57.040000</td>\n",
       "      <td>341.300000</td>\n",
       "      <td>164.000000</td>\n",
       "      <td>...</td>\n",
       "      <td>20.000000</td>\n",
       "      <td>5.100000</td>\n",
       "      <td>7.000000</td>\n",
       "      <td>3.000000</td>\n",
       "      <td>9.000000</td>\n",
       "      <td>882.200000</td>\n",
       "      <td>416.000000</td>\n",
       "      <td>90.460000</td>\n",
       "      <td>69.950000</td>\n",
       "      <td>9.000000</td>\n",
       "    </tr>\n",
       "  </tbody>\n",
       "</table>\n",
       "<p>8 rows × 25 columns</p>\n",
       "</div>"
      ],
      "text/plain": [
       "            state   area code  international plan  voice mail plan  \\\n",
       "count  834.000000  834.000000          834.000000       834.000000   \n",
       "mean    25.785372    1.032374            0.097122         0.290168   \n",
       "std     14.887113    0.715231            0.296302         0.454112   \n",
       "min      0.000000    0.000000            0.000000         0.000000   \n",
       "25%     13.250000    1.000000            0.000000         0.000000   \n",
       "50%     26.500000    1.000000            0.000000         0.000000   \n",
       "75%     38.000000    2.000000            0.000000         1.000000   \n",
       "max     50.000000    2.000000            1.000000         1.000000   \n",
       "\n",
       "       number vmail messages  total day minutes  total day calls  \\\n",
       "count             834.000000         834.000000       834.000000   \n",
       "mean                8.438849         179.083573       100.425659   \n",
       "std                13.774700          55.705695        20.398959   \n",
       "min                 0.000000           0.000000         0.000000   \n",
       "25%                 0.000000         143.250000        86.000000   \n",
       "50%                 0.000000         180.450000       101.000000   \n",
       "75%                21.000000         216.525000       114.750000   \n",
       "max                46.000000         335.500000       163.000000   \n",
       "\n",
       "       total day charge  total eve minutes  total eve calls  ...  \\\n",
       "count        834.000000         834.000000       834.000000  ...   \n",
       "mean          30.444880         201.305396       100.621103  ...   \n",
       "std            9.469929          50.997535        19.465495  ...   \n",
       "min            0.000000          31.200000        48.000000  ...   \n",
       "25%           24.350000         167.300000        87.000000  ...   \n",
       "50%           30.680000         202.600000       101.000000  ...   \n",
       "75%           36.807500         236.925000       114.000000  ...   \n",
       "max           57.040000         341.300000       164.000000  ...   \n",
       "\n",
       "       total intl calls  total intl charge  customer service calls  \\\n",
       "count        834.000000         834.000000              834.000000   \n",
       "mean           4.576739           2.748094                1.545564   \n",
       "std            2.547411           0.749223                1.274352   \n",
       "min            0.000000           0.000000                0.000000   \n",
       "25%            3.000000           2.270000                1.000000   \n",
       "50%            4.000000           2.750000                1.000000   \n",
       "75%            6.000000           3.285000                2.000000   \n",
       "max           20.000000           5.100000                7.000000   \n",
       "\n",
       "          gtr_avg  account length  total minutes  total calls  total cost  \\\n",
       "count  834.000000      834.000000     834.000000   834.000000  834.000000   \n",
       "mean     2.432854        3.902878     592.189329   306.342926   59.377374   \n",
       "std      0.837836        1.381203      91.433173    34.869882   10.797792   \n",
       "min      0.000000        1.000000     301.500000   206.000000   22.930000   \n",
       "25%      2.000000        3.000000     526.350000   284.000000   52.100000   \n",
       "50%      3.000000        4.000000     595.750000   306.000000   59.370000   \n",
       "75%      3.000000        5.000000     655.325000   329.000000   66.897500   \n",
       "max      3.000000        9.000000     882.200000   416.000000   90.460000   \n",
       "\n",
       "       cost per day  account months  \n",
       "count    834.000000      834.000000  \n",
       "mean       0.991785        3.902878  \n",
       "std        3.383636        1.381203  \n",
       "min        0.174791        1.000000  \n",
       "25%        0.444992        3.000000  \n",
       "50%        0.575734        4.000000  \n",
       "75%        0.799857        5.000000  \n",
       "max       69.950000        9.000000  \n",
       "\n",
       "[8 rows x 25 columns]"
      ]
     },
     "execution_count": 124,
     "metadata": {},
     "output_type": "execute_result"
    }
   ],
   "source": [
    "Xtest.describe()"
   ]
  },
  {
   "cell_type": "code",
   "execution_count": null,
   "metadata": {},
   "outputs": [],
   "source": [
    "# make a total time category"
   ]
  },
  {
   "cell_type": "code",
   "execution_count": 73,
   "metadata": {},
   "outputs": [],
   "source": [
    "df3['total minutes'] = df['total day minutes']+df['total eve minutes']+df['total night minutes']+df['total intl minutes']\n",
    "df3['total calls'] = df['total day calls']+df['total eve calls']+df['total night calls']+df['total intl calls']\n",
    "df3['total cost'] = df['total day charge']+df['total eve charge']+df['total night charge']+df['total intl charge']"
   ]
  },
  {
   "cell_type": "code",
   "execution_count": 81,
   "metadata": {},
   "outputs": [],
   "source": [
    "df3['cost per day'] = df3['total cost']/df['account length']"
   ]
  },
  {
   "cell_type": "code",
   "execution_count": 126,
   "metadata": {},
   "outputs": [],
   "source": []
  },
  {
   "cell_type": "code",
   "execution_count": null,
   "metadata": {},
   "outputs": [],
   "source": []
  }
 ],
 "metadata": {
  "kernelspec": {
   "display_name": "learn-env",
   "language": "python",
   "name": "learn-env"
  },
  "language_info": {
   "codemirror_mode": {
    "name": "ipython",
    "version": 3
   },
   "file_extension": ".py",
   "mimetype": "text/x-python",
   "name": "python",
   "nbconvert_exporter": "python",
   "pygments_lexer": "ipython3",
   "version": "3.6.9"
  }
 },
 "nbformat": 4,
 "nbformat_minor": 4
}
